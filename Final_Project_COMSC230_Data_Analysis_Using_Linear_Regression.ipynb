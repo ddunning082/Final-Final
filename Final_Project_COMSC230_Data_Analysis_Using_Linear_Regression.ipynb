{
 "cells": [
  {
   "cell_type": "markdown",
   "id": "be7ffa44",
   "metadata": {
    "id": "be7ffa44"
   },
   "source": [
    "## **Final Project: Data Analysis Using Linear Regression**\n",
    "\n",
    "### **Course**: MATH 230\n",
    "\n",
    "### Name: Donovan Dunning\n"
   ]
  },
  {
   "cell_type": "markdown",
   "id": "90ecb139",
   "metadata": {
    "id": "90ecb139"
   },
   "source": [
    "\n",
    "###  Expectations\n",
    "\n",
    "This project has the following expectations:\n",
    "- Ability to ask research questions and building a research framework to identify potential solutions.\n",
    "- Ability to import and implement various python modules.\n",
    "- Loading and inspecting data to get basic information.\n",
    "- Data Exploration and visualization.\n",
    "- Cleaning the data and handling the missing values (if any).\n",
    "- Feature selections, data filtering, and data preprocessing.\n",
    "- Creating tidy data for feeding to learning algorithms.\n",
    "- Input preprations and transformation.\n",
    "- Building, training, and testing regression models."
   ]
  },
  {
   "cell_type": "markdown",
   "id": "66835a9e",
   "metadata": {
    "id": "66835a9e"
   },
   "source": [
    "### Guidelines\n",
    "\n",
    "For your final report (Due December 15th on Bridges), you will prepare a 15-20\n",
    "minutes presentation talking about an interesting data analysis that you did in Python and\n",
    "the software configuration management of your project on GitHub. You may work in groups\n",
    "of two (or three). The presentations will be done during the class time on December 12th.\n",
    "1. You should select a dataset for your analysis that is of interest to you.\n",
    "2. Formulate a research hypothesis you want to answer with this dataset.\n",
    "3. Describe the variables in the dataset that relate to your hypothesis.\n",
    "4. Formulate a statistical hypothesis based on the available data.\n",
    "5. Conduct a descriptive statistical analysis for relevant variables in the dataset using\n",
    "graphical figures."
   ]
  },
  {
   "cell_type": "markdown",
   "id": "dc5c9978",
   "metadata": {
    "id": "dc5c9978"
   },
   "source": [
    "## Project Components"
   ]
  },
  {
   "cell_type": "markdown",
   "id": "62e3c87d",
   "metadata": {
    "id": "62e3c87d"
   },
   "source": [
    "\n",
    "### Background/Information:\n"
   ]
  },
  {
   "cell_type": "markdown",
   "id": "b669f008",
   "metadata": {},
   "source": [
    "Covid-19, also identified as the Corona Virus, was a pandemic that struck the world starting in 2020. The data set that has been used for this project invloves the use of information collected from the pandemic initially, at the end of year 2020. THe data includes confirmed infection cases per country and region. The usefulness of the gather data allows the use for better analysis to determine what areas were most greatly affected by the pandemic. Some points that could be taken away is the percentage of infection rates to death rates in relation to diffrent countries."
   ]
  },
  {
   "cell_type": "markdown",
   "id": "986f54e7",
   "metadata": {
    "id": "986f54e7"
   },
   "source": [
    "### Introduction / Methology\n"
   ]
  },
  {
   "cell_type": "markdown",
   "id": "vWIuh3PjAEPR",
   "metadata": {
    "id": "vWIuh3PjAEPR"
   },
   "source": [
    "Using this data set we will be able to predict the possible outcome for the progression of covid in the future. I will be using linear regression as a form of analysis. With this regression model I will build an self evaluating system to make accurate predictions of what the suspected death outcome will be to infection rate. Using multiple libraries I can visualize this data in plots allowing for the end reader to better understand the output of this data set. When beginning this project I needed to parse through the data and decide what sectors I wanted to manipulate and run tests through first. Once deciding this I were able to pre process and parse through the needed data sets. Witht the data parsed I wanted to apply multiple different approches in order to understand the differences between the methods."
   ]
  },
  {
   "cell_type": "markdown",
   "id": "deb4ee0c",
   "metadata": {
    "id": "deb4ee0c"
   },
   "source": [
    "### Getting Data, Cleaning, and  Preprocessing. \n"
   ]
  },
  {
   "cell_type": "code",
   "execution_count": 42,
   "id": "c9da1c3d",
   "metadata": {
    "colab": {
     "base_uri": "https://localhost:8080/",
     "height": 450
    },
    "id": "c9da1c3d",
    "outputId": "04af052f-2664-4470-8e77-1b28512bea17"
   },
   "outputs": [
    {
     "data": {
      "text/html": [
       "<div>\n",
       "<style scoped>\n",
       "    .dataframe tbody tr th:only-of-type {\n",
       "        vertical-align: middle;\n",
       "    }\n",
       "\n",
       "    .dataframe tbody tr th {\n",
       "        vertical-align: top;\n",
       "    }\n",
       "\n",
       "    .dataframe thead th {\n",
       "        text-align: right;\n",
       "    }\n",
       "</style>\n",
       "<table border=\"1\" class=\"dataframe\">\n",
       "  <thead>\n",
       "    <tr style=\"text-align: right;\">\n",
       "      <th></th>\n",
       "      <th>Country/Region</th>\n",
       "      <th>Confirmed</th>\n",
       "      <th>Deaths</th>\n",
       "      <th>Recovered</th>\n",
       "      <th>Active</th>\n",
       "      <th>New cases</th>\n",
       "      <th>New deaths</th>\n",
       "      <th>New recovered</th>\n",
       "      <th>Deaths / 100 Cases</th>\n",
       "      <th>Recovered / 100 Cases</th>\n",
       "      <th>Deaths / 100 Recovered</th>\n",
       "      <th>Confirmed last week</th>\n",
       "      <th>1 week change</th>\n",
       "      <th>1 week % increase</th>\n",
       "      <th>WHO Region</th>\n",
       "    </tr>\n",
       "  </thead>\n",
       "  <tbody>\n",
       "    <tr>\n",
       "      <th>0</th>\n",
       "      <td>Afghanistan</td>\n",
       "      <td>36263</td>\n",
       "      <td>1269</td>\n",
       "      <td>25198</td>\n",
       "      <td>9796</td>\n",
       "      <td>106</td>\n",
       "      <td>10</td>\n",
       "      <td>18</td>\n",
       "      <td>3.50</td>\n",
       "      <td>69.49</td>\n",
       "      <td>5.04</td>\n",
       "      <td>35526</td>\n",
       "      <td>737</td>\n",
       "      <td>2.07</td>\n",
       "      <td>Eastern Mediterranean</td>\n",
       "    </tr>\n",
       "    <tr>\n",
       "      <th>1</th>\n",
       "      <td>Albania</td>\n",
       "      <td>4880</td>\n",
       "      <td>144</td>\n",
       "      <td>2745</td>\n",
       "      <td>1991</td>\n",
       "      <td>117</td>\n",
       "      <td>6</td>\n",
       "      <td>63</td>\n",
       "      <td>2.95</td>\n",
       "      <td>56.25</td>\n",
       "      <td>5.25</td>\n",
       "      <td>4171</td>\n",
       "      <td>709</td>\n",
       "      <td>17.00</td>\n",
       "      <td>Europe</td>\n",
       "    </tr>\n",
       "    <tr>\n",
       "      <th>2</th>\n",
       "      <td>Algeria</td>\n",
       "      <td>27973</td>\n",
       "      <td>1163</td>\n",
       "      <td>18837</td>\n",
       "      <td>7973</td>\n",
       "      <td>616</td>\n",
       "      <td>8</td>\n",
       "      <td>749</td>\n",
       "      <td>4.16</td>\n",
       "      <td>67.34</td>\n",
       "      <td>6.17</td>\n",
       "      <td>23691</td>\n",
       "      <td>4282</td>\n",
       "      <td>18.07</td>\n",
       "      <td>Africa</td>\n",
       "    </tr>\n",
       "    <tr>\n",
       "      <th>3</th>\n",
       "      <td>Andorra</td>\n",
       "      <td>907</td>\n",
       "      <td>52</td>\n",
       "      <td>803</td>\n",
       "      <td>52</td>\n",
       "      <td>10</td>\n",
       "      <td>0</td>\n",
       "      <td>0</td>\n",
       "      <td>5.73</td>\n",
       "      <td>88.53</td>\n",
       "      <td>6.48</td>\n",
       "      <td>884</td>\n",
       "      <td>23</td>\n",
       "      <td>2.60</td>\n",
       "      <td>Europe</td>\n",
       "    </tr>\n",
       "    <tr>\n",
       "      <th>4</th>\n",
       "      <td>Angola</td>\n",
       "      <td>950</td>\n",
       "      <td>41</td>\n",
       "      <td>242</td>\n",
       "      <td>667</td>\n",
       "      <td>18</td>\n",
       "      <td>1</td>\n",
       "      <td>0</td>\n",
       "      <td>4.32</td>\n",
       "      <td>25.47</td>\n",
       "      <td>16.94</td>\n",
       "      <td>749</td>\n",
       "      <td>201</td>\n",
       "      <td>26.84</td>\n",
       "      <td>Africa</td>\n",
       "    </tr>\n",
       "    <tr>\n",
       "      <th>...</th>\n",
       "      <td>...</td>\n",
       "      <td>...</td>\n",
       "      <td>...</td>\n",
       "      <td>...</td>\n",
       "      <td>...</td>\n",
       "      <td>...</td>\n",
       "      <td>...</td>\n",
       "      <td>...</td>\n",
       "      <td>...</td>\n",
       "      <td>...</td>\n",
       "      <td>...</td>\n",
       "      <td>...</td>\n",
       "      <td>...</td>\n",
       "      <td>...</td>\n",
       "      <td>...</td>\n",
       "    </tr>\n",
       "    <tr>\n",
       "      <th>182</th>\n",
       "      <td>West Bank and Gaza</td>\n",
       "      <td>10621</td>\n",
       "      <td>78</td>\n",
       "      <td>3752</td>\n",
       "      <td>6791</td>\n",
       "      <td>152</td>\n",
       "      <td>2</td>\n",
       "      <td>0</td>\n",
       "      <td>0.73</td>\n",
       "      <td>35.33</td>\n",
       "      <td>2.08</td>\n",
       "      <td>8916</td>\n",
       "      <td>1705</td>\n",
       "      <td>19.12</td>\n",
       "      <td>Eastern Mediterranean</td>\n",
       "    </tr>\n",
       "    <tr>\n",
       "      <th>183</th>\n",
       "      <td>Western Sahara</td>\n",
       "      <td>10</td>\n",
       "      <td>1</td>\n",
       "      <td>8</td>\n",
       "      <td>1</td>\n",
       "      <td>0</td>\n",
       "      <td>0</td>\n",
       "      <td>0</td>\n",
       "      <td>10.00</td>\n",
       "      <td>80.00</td>\n",
       "      <td>12.50</td>\n",
       "      <td>10</td>\n",
       "      <td>0</td>\n",
       "      <td>0.00</td>\n",
       "      <td>Africa</td>\n",
       "    </tr>\n",
       "    <tr>\n",
       "      <th>184</th>\n",
       "      <td>Yemen</td>\n",
       "      <td>1691</td>\n",
       "      <td>483</td>\n",
       "      <td>833</td>\n",
       "      <td>375</td>\n",
       "      <td>10</td>\n",
       "      <td>4</td>\n",
       "      <td>36</td>\n",
       "      <td>28.56</td>\n",
       "      <td>49.26</td>\n",
       "      <td>57.98</td>\n",
       "      <td>1619</td>\n",
       "      <td>72</td>\n",
       "      <td>4.45</td>\n",
       "      <td>Eastern Mediterranean</td>\n",
       "    </tr>\n",
       "    <tr>\n",
       "      <th>185</th>\n",
       "      <td>Zambia</td>\n",
       "      <td>4552</td>\n",
       "      <td>140</td>\n",
       "      <td>2815</td>\n",
       "      <td>1597</td>\n",
       "      <td>71</td>\n",
       "      <td>1</td>\n",
       "      <td>465</td>\n",
       "      <td>3.08</td>\n",
       "      <td>61.84</td>\n",
       "      <td>4.97</td>\n",
       "      <td>3326</td>\n",
       "      <td>1226</td>\n",
       "      <td>36.86</td>\n",
       "      <td>Africa</td>\n",
       "    </tr>\n",
       "    <tr>\n",
       "      <th>186</th>\n",
       "      <td>Zimbabwe</td>\n",
       "      <td>2704</td>\n",
       "      <td>36</td>\n",
       "      <td>542</td>\n",
       "      <td>2126</td>\n",
       "      <td>192</td>\n",
       "      <td>2</td>\n",
       "      <td>24</td>\n",
       "      <td>1.33</td>\n",
       "      <td>20.04</td>\n",
       "      <td>6.64</td>\n",
       "      <td>1713</td>\n",
       "      <td>991</td>\n",
       "      <td>57.85</td>\n",
       "      <td>Africa</td>\n",
       "    </tr>\n",
       "  </tbody>\n",
       "</table>\n",
       "<p>187 rows × 15 columns</p>\n",
       "</div>"
      ],
      "text/plain": [
       "         Country/Region  Confirmed  Deaths  Recovered  Active  New cases  \\\n",
       "0           Afghanistan      36263    1269      25198    9796        106   \n",
       "1               Albania       4880     144       2745    1991        117   \n",
       "2               Algeria      27973    1163      18837    7973        616   \n",
       "3               Andorra        907      52        803      52         10   \n",
       "4                Angola        950      41        242     667         18   \n",
       "..                  ...        ...     ...        ...     ...        ...   \n",
       "182  West Bank and Gaza      10621      78       3752    6791        152   \n",
       "183      Western Sahara         10       1          8       1          0   \n",
       "184               Yemen       1691     483        833     375         10   \n",
       "185              Zambia       4552     140       2815    1597         71   \n",
       "186            Zimbabwe       2704      36        542    2126        192   \n",
       "\n",
       "     New deaths  New recovered  Deaths / 100 Cases  Recovered / 100 Cases  \\\n",
       "0            10             18                3.50                  69.49   \n",
       "1             6             63                2.95                  56.25   \n",
       "2             8            749                4.16                  67.34   \n",
       "3             0              0                5.73                  88.53   \n",
       "4             1              0                4.32                  25.47   \n",
       "..          ...            ...                 ...                    ...   \n",
       "182           2              0                0.73                  35.33   \n",
       "183           0              0               10.00                  80.00   \n",
       "184           4             36               28.56                  49.26   \n",
       "185           1            465                3.08                  61.84   \n",
       "186           2             24                1.33                  20.04   \n",
       "\n",
       "     Deaths / 100 Recovered  Confirmed last week  1 week change  \\\n",
       "0                      5.04                35526            737   \n",
       "1                      5.25                 4171            709   \n",
       "2                      6.17                23691           4282   \n",
       "3                      6.48                  884             23   \n",
       "4                     16.94                  749            201   \n",
       "..                      ...                  ...            ...   \n",
       "182                    2.08                 8916           1705   \n",
       "183                   12.50                   10              0   \n",
       "184                   57.98                 1619             72   \n",
       "185                    4.97                 3326           1226   \n",
       "186                    6.64                 1713            991   \n",
       "\n",
       "     1 week % increase             WHO Region  \n",
       "0                 2.07  Eastern Mediterranean  \n",
       "1                17.00                 Europe  \n",
       "2                18.07                 Africa  \n",
       "3                 2.60                 Europe  \n",
       "4                26.84                 Africa  \n",
       "..                 ...                    ...  \n",
       "182              19.12  Eastern Mediterranean  \n",
       "183               0.00                 Africa  \n",
       "184               4.45  Eastern Mediterranean  \n",
       "185              36.86                 Africa  \n",
       "186              57.85                 Africa  \n",
       "\n",
       "[187 rows x 15 columns]"
      ]
     },
     "execution_count": 42,
     "metadata": {},
     "output_type": "execute_result"
    }
   ],
   "source": [
    "import warnings\n",
    "warnings.filterwarnings('ignore')\n",
    "\n",
    "import math\n",
    "import numpy as np\n",
    "import pandas as pd\n",
    "import seaborn as sns\n",
    "import datetime\n",
    "import matplotlib.pyplot as plt\n",
    "from sklearn.linear_model import LinearRegression\n",
    "from sklearn.model_selection import train_test_split, GridSearchCV\n",
    "from sklearn.metrics import mean_squared_error, r2_score\n",
    "\n",
    "\n",
    "col_names = ['Country/Region, Confirmed, Deaths','Recovered','Active','New cases','New deaths','New recovered',\n",
    "             'Deaths / 100 Cases','Recovered / 100 Cases','Deaths / 100 Recovered',\n",
    "             'Confirmed last week','1 week change','1 week % increase','WHO Region',]\n",
    "\n",
    "\n",
    "#data_path = \"/content/drive/MyDrive/Project1_Group1/data.csv\"\n",
    "\n",
    "data = pd.read_csv('covid_19_data.csv')\n",
    "\n",
    "#data.set_index('date', inplace=True)\n",
    "\n",
    "data"
   ]
  },
  {
   "cell_type": "code",
   "execution_count": 5,
   "id": "pvRl2NXgCYHR",
   "metadata": {
    "colab": {
     "base_uri": "https://localhost:8080/"
    },
    "id": "pvRl2NXgCYHR",
    "outputId": "1558a580-013c-4508-d6ff-3f332ff77b0a"
   },
   "outputs": [
    {
     "name": "stdout",
     "output_type": "stream",
     "text": [
      "        Country/Region  Confirmed  Deaths  Recovered  Active  New cases  \\\n",
      "0          Afghanistan      36263    1269      25198    9796        106   \n",
      "1              Albania       4880     144       2745    1991        117   \n",
      "2              Algeria      27973    1163      18837    7973        616   \n",
      "3              Andorra        907      52        803      52         10   \n",
      "4               Angola        950      41        242     667         18   \n",
      "5  Antigua and Barbuda         86       3         65      18          4   \n",
      "6            Argentina     167416    3059      72575   91782       4890   \n",
      "7              Armenia      37390     711      26665   10014         73   \n",
      "8            Australia      15303     167       9311    5825        368   \n",
      "9              Austria      20558     713      18246    1599         86   \n",
      "\n",
      "   New deaths  New recovered  Deaths / 100 Cases  Recovered / 100 Cases  \\\n",
      "0          10             18                3.50                  69.49   \n",
      "1           6             63                2.95                  56.25   \n",
      "2           8            749                4.16                  67.34   \n",
      "3           0              0                5.73                  88.53   \n",
      "4           1              0                4.32                  25.47   \n",
      "5           0              5                3.49                  75.58   \n",
      "6         120           2057                1.83                  43.35   \n",
      "7           6            187                1.90                  71.32   \n",
      "8           6            137                1.09                  60.84   \n",
      "9           1             37                3.47                  88.75   \n",
      "\n",
      "   Deaths / 100 Recovered  Confirmed last week  1 week change  \\\n",
      "0                    5.04                35526            737   \n",
      "1                    5.25                 4171            709   \n",
      "2                    6.17                23691           4282   \n",
      "3                    6.48                  884             23   \n",
      "4                   16.94                  749            201   \n",
      "5                    4.62                   76             10   \n",
      "6                    4.21               130774          36642   \n",
      "7                    2.67                34981           2409   \n",
      "8                    1.79                12428           2875   \n",
      "9                    3.91                19743            815   \n",
      "\n",
      "   1 week % increase             WHO Region  \n",
      "0               2.07  Eastern Mediterranean  \n",
      "1              17.00                 Europe  \n",
      "2              18.07                 Africa  \n",
      "3               2.60                 Europe  \n",
      "4              26.84                 Africa  \n",
      "5              13.16               Americas  \n",
      "6              28.02               Americas  \n",
      "7               6.89                 Europe  \n",
      "8              23.13        Western Pacific  \n",
      "9               4.13                 Europe  \n",
      "<class 'pandas.core.frame.DataFrame'>\n",
      "RangeIndex: 187 entries, 0 to 186\n",
      "Data columns (total 15 columns):\n",
      " #   Column                  Non-Null Count  Dtype  \n",
      "---  ------                  --------------  -----  \n",
      " 0   Country/Region          187 non-null    object \n",
      " 1   Confirmed               187 non-null    int64  \n",
      " 2   Deaths                  187 non-null    int64  \n",
      " 3   Recovered               187 non-null    int64  \n",
      " 4   Active                  187 non-null    int64  \n",
      " 5   New cases               187 non-null    int64  \n",
      " 6   New deaths              187 non-null    int64  \n",
      " 7   New recovered           187 non-null    int64  \n",
      " 8   Deaths / 100 Cases      187 non-null    float64\n",
      " 9   Recovered / 100 Cases   187 non-null    float64\n",
      " 10  Deaths / 100 Recovered  187 non-null    float64\n",
      " 11  Confirmed last week     187 non-null    int64  \n",
      " 12  1 week change           187 non-null    int64  \n",
      " 13  1 week % increase       187 non-null    float64\n",
      " 14  WHO Region              187 non-null    object \n",
      "dtypes: float64(4), int64(9), object(2)\n",
      "memory usage: 22.0+ KB\n",
      "None\n",
      "                        count          mean            std    min       25%  \\\n",
      "Confirmed               187.0  8.813094e+04  383318.663831  10.00  1114.000   \n",
      "Deaths                  187.0  3.497519e+03   14100.002482   0.00    18.500   \n",
      "Recovered               187.0  5.063148e+04  190188.189643   0.00   626.500   \n",
      "Active                  187.0  3.400194e+04  213326.173371   0.00   141.500   \n",
      "New cases               187.0  1.222957e+03    5710.374790   0.00     4.000   \n",
      "New deaths              187.0  2.895722e+01     120.037173   0.00     0.000   \n",
      "New recovered           187.0  9.338128e+02    4197.719635   0.00     0.000   \n",
      "Deaths / 100 Cases      187.0  3.019519e+00       3.454302   0.00     0.945   \n",
      "Recovered / 100 Cases   187.0  6.482053e+01      26.287694   0.00    48.770   \n",
      "Deaths / 100 Recovered  187.0           inf            NaN   0.00     1.450   \n",
      "Confirmed last week     187.0  7.868248e+04  338273.676567  10.00  1051.500   \n",
      "1 week change           187.0  9.448460e+03   47491.127684 -47.00    49.000   \n",
      "1 week % increase       187.0  1.360620e+01      24.509838  -3.84     2.775   \n",
      "\n",
      "                            50%        75%         max  \n",
      "Confirmed               5059.00  40460.500  4290259.00  \n",
      "Deaths                   108.00    734.000   148011.00  \n",
      "Recovered               2815.00  22606.000  1846641.00  \n",
      "Active                  1600.00   9149.000  2816444.00  \n",
      "New cases                 49.00    419.500    56336.00  \n",
      "New deaths                 1.00      6.000     1076.00  \n",
      "New recovered             22.00    221.000    33728.00  \n",
      "Deaths / 100 Cases         2.15      3.875       28.56  \n",
      "Recovered / 100 Cases     71.32     86.885      100.00  \n",
      "Deaths / 100 Recovered     3.62      6.440         inf  \n",
      "Confirmed last week     5020.00  37080.500  3834677.00  \n",
      "1 week change            432.00   3172.000   455582.00  \n",
      "1 week % increase          6.89     16.855      226.32  \n"
     ]
    }
   ],
   "source": [
    "print(data.head(10))\n",
    "\n",
    "print(data.info())\n",
    "\n",
    "print(data.describe().transpose())"
   ]
  },
  {
   "cell_type": "code",
   "execution_count": 9,
   "id": "v90B5NoMmJ5_",
   "metadata": {
    "colab": {
     "base_uri": "https://localhost:8080/",
     "height": 279
    },
    "id": "v90B5NoMmJ5_",
    "outputId": "c9194b8b-b1c7-4664-a35d-ae683a754280"
   },
   "outputs": [
    {
     "data": {
      "image/png": "[encoded data removed]",
      "text/plain": [
       "<Figure size 864x432 with 1 Axes>"
      ]
     },
     "metadata": {
      "needs_background": "light"
     },
     "output_type": "display_data"
    }
   ],
   "source": [
    "data['Deaths / 100 Cases'].plot(figsize=(12,6))\n",
    "plt.show()"
   ]
  },
  {
   "cell_type": "code",
   "execution_count": 11,
   "id": "HS6GlDo-sYd1",
   "metadata": {
    "colab": {
     "base_uri": "https://localhost:8080/",
     "height": 350
    },
    "id": "HS6GlDo-sYd1",
    "outputId": "d8a5dbe6-ab08-41a6-8a26-514152b997c3"
   },
   "outputs": [
    {
     "data": {
      "image/png": "[encoded data removed]",
      "text/plain": [
       "<Figure size 1296x360 with 2 Axes>"
      ]
     },
     "metadata": {
      "needs_background": "light"
     },
     "output_type": "display_data"
    }
   ],
   "source": [
    "plt.figure(figsize = (18,5))\n",
    "\n",
    "plt.subplot(141)\n",
    "sns.distplot(data['Deaths / 100 Cases'].dropna(), bins=50, color='b')\n",
    "plt.title(\"Deaths per 100 Cases\")\n",
    "\n",
    "plt.subplot(142)\n",
    "sns.distplot(data['Recovered / 100 Cases'].dropna(), bins=50, color='r')\n",
    "plt.title(\"Recovered per 100 Cases\")\n",
    "\n",
    "#plt.subplot(143)\n",
    "#sns.distplot(data['Deaths / 100 Recovered'].dropna(), bins=50, color='y')\n",
    "#plt.title(\"Deaths per 100 Recovered\")\n",
    "\n",
    "plt.show()"
   ]
  },
  {
   "cell_type": "code",
   "execution_count": 30,
   "id": "furGYn_QWhe9",
   "metadata": {
    "colab": {
     "base_uri": "https://localhost:8080/",
     "height": 1000
    },
    "id": "furGYn_QWhe9",
    "outputId": "cc7f1d3d-4c0d-4e1b-9b10-cad57ca18aab"
   },
   "outputs": [],
   "source": [
    "data = data.rename(columns={'Country/Region': 'Country', 'WHO Region': 'Region','1 week % increase': 'Increase', '1 week change': 'week', 'Recovered / 100 Cases' : 'Recovered / 100 Cases'})"
   ]
  },
  {
   "cell_type": "code",
   "execution_count": 14,
   "id": "96a1e55b",
   "metadata": {},
   "outputs": [
    {
     "data": {
      "text/plain": [
       "Europe                   56\n",
       "Africa                   48\n",
       "Americas                 35\n",
       "Eastern Mediterranean    22\n",
       "Western Pacific          16\n",
       "South-East Asia          10\n",
       "Name: Region, dtype: int64"
      ]
     },
     "execution_count": 14,
     "metadata": {},
     "output_type": "execute_result"
    }
   ],
   "source": [
    "data.Region.value_counts()"
   ]
  },
  {
   "cell_type": "code",
   "execution_count": 41,
   "id": "5979c60e",
   "metadata": {},
   "outputs": [
    {
     "data": {
      "text/plain": [
       "<AxesSubplot:>"
      ]
     },
     "execution_count": 41,
     "metadata": {},
     "output_type": "execute_result"
    },
    {
     "data": {
      "image/png": "[encoded data removed]",
      "text/plain": [
       "<Figure size 432x288 with 1 Axes>"
      ]
     },
     "metadata": {
      "needs_background": "light"
     },
     "output_type": "display_data"
    }
   ],
   "source": [
    "data.Region.value_counts().plot(kind = 'bar',color='r')"
   ]
  },
  {
   "cell_type": "code",
   "execution_count": 17,
   "id": "f606c7fe",
   "metadata": {},
   "outputs": [
    {
     "data": {
      "text/plain": [
       "Region\n",
       "Africa                    12223\n",
       "Americas                 342732\n",
       "Eastern Mediterranean     38339\n",
       "Europe                   211144\n",
       "South-East Asia           41349\n",
       "Western Pacific            8249\n",
       "Name: Deaths, dtype: int64"
      ]
     },
     "execution_count": 17,
     "metadata": {},
     "output_type": "execute_result"
    }
   ],
   "source": [
    "Total = data.groupby(\"Region\")[\"Deaths\"].sum()\n",
    "Total"
   ]
  },
  {
   "cell_type": "code",
   "execution_count": 51,
   "id": "4563488c",
   "metadata": {},
   "outputs": [],
   "source": [
    "data = data.rename(columns={'Country/Region': 'Country', 'WHO Region': 'Region','1 week % increase': 'Increase', '1 week change': 'week', 'Recovered / 100 Cases' : 'Recovered_100'})"
   ]
  },
  {
   "cell_type": "code",
   "execution_count": 52,
   "id": "2a2a06cd",
   "metadata": {},
   "outputs": [
    {
     "data": {
      "text/html": [
       "<div>\n",
       "<style scoped>\n",
       "    .dataframe tbody tr th:only-of-type {\n",
       "        vertical-align: middle;\n",
       "    }\n",
       "\n",
       "    .dataframe tbody tr th {\n",
       "        vertical-align: top;\n",
       "    }\n",
       "\n",
       "    .dataframe thead th {\n",
       "        text-align: right;\n",
       "    }\n",
       "</style>\n",
       "<table border=\"1\" class=\"dataframe\">\n",
       "  <thead>\n",
       "    <tr style=\"text-align: right;\">\n",
       "      <th></th>\n",
       "      <th>Country</th>\n",
       "      <th>Confirmed</th>\n",
       "      <th>Deaths</th>\n",
       "      <th>Recovered</th>\n",
       "      <th>Deaths / 100 Cases</th>\n",
       "      <th>Recovered_100</th>\n",
       "      <th>week</th>\n",
       "      <th>Increase</th>\n",
       "      <th>Region</th>\n",
       "    </tr>\n",
       "  </thead>\n",
       "  <tbody>\n",
       "    <tr>\n",
       "      <th>0</th>\n",
       "      <td>Afghanistan</td>\n",
       "      <td>36263</td>\n",
       "      <td>1269</td>\n",
       "      <td>25198</td>\n",
       "      <td>3.50</td>\n",
       "      <td>69.49</td>\n",
       "      <td>737</td>\n",
       "      <td>2.07</td>\n",
       "      <td>Eastern Mediterranean</td>\n",
       "    </tr>\n",
       "    <tr>\n",
       "      <th>1</th>\n",
       "      <td>Albania</td>\n",
       "      <td>4880</td>\n",
       "      <td>144</td>\n",
       "      <td>2745</td>\n",
       "      <td>2.95</td>\n",
       "      <td>56.25</td>\n",
       "      <td>709</td>\n",
       "      <td>17.00</td>\n",
       "      <td>Europe</td>\n",
       "    </tr>\n",
       "    <tr>\n",
       "      <th>2</th>\n",
       "      <td>Algeria</td>\n",
       "      <td>27973</td>\n",
       "      <td>1163</td>\n",
       "      <td>18837</td>\n",
       "      <td>4.16</td>\n",
       "      <td>67.34</td>\n",
       "      <td>4282</td>\n",
       "      <td>18.07</td>\n",
       "      <td>Africa</td>\n",
       "    </tr>\n",
       "    <tr>\n",
       "      <th>3</th>\n",
       "      <td>Andorra</td>\n",
       "      <td>907</td>\n",
       "      <td>52</td>\n",
       "      <td>803</td>\n",
       "      <td>5.73</td>\n",
       "      <td>88.53</td>\n",
       "      <td>23</td>\n",
       "      <td>2.60</td>\n",
       "      <td>Europe</td>\n",
       "    </tr>\n",
       "    <tr>\n",
       "      <th>4</th>\n",
       "      <td>Angola</td>\n",
       "      <td>950</td>\n",
       "      <td>41</td>\n",
       "      <td>242</td>\n",
       "      <td>4.32</td>\n",
       "      <td>25.47</td>\n",
       "      <td>201</td>\n",
       "      <td>26.84</td>\n",
       "      <td>Africa</td>\n",
       "    </tr>\n",
       "  </tbody>\n",
       "</table>\n",
       "</div>"
      ],
      "text/plain": [
       "       Country  Confirmed  Deaths  Recovered  Deaths / 100 Cases  \\\n",
       "0  Afghanistan      36263    1269      25198                3.50   \n",
       "1      Albania       4880     144       2745                2.95   \n",
       "2      Algeria      27973    1163      18837                4.16   \n",
       "3      Andorra        907      52        803                5.73   \n",
       "4       Angola        950      41        242                4.32   \n",
       "\n",
       "   Recovered_100  week  Increase                 Region  \n",
       "0          69.49   737      2.07  Eastern Mediterranean  \n",
       "1          56.25   709     17.00                 Europe  \n",
       "2          67.34  4282     18.07                 Africa  \n",
       "3          88.53    23      2.60                 Europe  \n",
       "4          25.47   201     26.84                 Africa  "
      ]
     },
     "execution_count": 52,
     "metadata": {},
     "output_type": "execute_result"
    }
   ],
   "source": [
    "covid = data.drop(['Active','New cases','New recovered','Confirmed last week','New deaths','Deaths / 100 Recovered'], axis =1)\n",
    "covid.head()"
   ]
  },
  {
   "cell_type": "code",
   "execution_count": null,
   "id": "e6e505ec",
   "metadata": {},
   "outputs": [],
   "source": []
  },
  {
   "cell_type": "code",
   "execution_count": 46,
   "id": "ed405735",
   "metadata": {},
   "outputs": [],
   "source": [
    "col_names2 = ['Country','Confirmed','Deaths','Recovered','Deaths / 100 Cases','Recovered / 100 Cases','Increase','Region']"
   ]
  },
  {
   "cell_type": "code",
   "execution_count": 53,
   "id": "bdc9786c",
   "metadata": {},
   "outputs": [],
   "source": [
    "correlation = covid.corr()"
   ]
  },
  {
   "cell_type": "code",
   "execution_count": 54,
   "id": "GiRRWMa0bG9U",
   "metadata": {
    "colab": {
     "base_uri": "https://localhost:8080/",
     "height": 554
    },
    "id": "GiRRWMa0bG9U",
    "outputId": "3159bf9c-f997-49f0-c5c0-eec46482d86e"
   },
   "outputs": [
    {
     "data": {
      "image/png": "[encoded data removed]",
      "text/plain": [
       "<Figure size 432x288 with 2 Axes>"
      ]
     },
     "metadata": {
      "needs_background": "light"
     },
     "output_type": "display_data"
    }
   ],
   "source": [
    "sns.heatmap(correlation, xticklabels = correlation.columns, yticklabels = correlation.columns\n",
    "           ,annot = True)\n",
    "plt.savefig(\"heatmap.png\")"
   ]
  },
  {
   "cell_type": "code",
   "execution_count": 73,
   "id": "d2d9eabc",
   "metadata": {},
   "outputs": [],
   "source": [
    "confirmed = covid.drop(['Country','Recovered','Deaths / 100 Cases','Recovered_100','week','Increase','Region'], axis =1)"
   ]
  },
  {
   "cell_type": "code",
   "execution_count": 74,
   "id": "086b4891",
   "metadata": {},
   "outputs": [
    {
     "data": {
      "text/html": [
       "<div>\n",
       "<style scoped>\n",
       "    .dataframe tbody tr th:only-of-type {\n",
       "        vertical-align: middle;\n",
       "    }\n",
       "\n",
       "    .dataframe tbody tr th {\n",
       "        vertical-align: top;\n",
       "    }\n",
       "\n",
       "    .dataframe thead th {\n",
       "        text-align: right;\n",
       "    }\n",
       "</style>\n",
       "<table border=\"1\" class=\"dataframe\">\n",
       "  <thead>\n",
       "    <tr style=\"text-align: right;\">\n",
       "      <th></th>\n",
       "      <th>Confirmed</th>\n",
       "      <th>Deaths</th>\n",
       "    </tr>\n",
       "  </thead>\n",
       "  <tbody>\n",
       "    <tr>\n",
       "      <th>0</th>\n",
       "      <td>36263</td>\n",
       "      <td>1269</td>\n",
       "    </tr>\n",
       "    <tr>\n",
       "      <th>1</th>\n",
       "      <td>4880</td>\n",
       "      <td>144</td>\n",
       "    </tr>\n",
       "    <tr>\n",
       "      <th>2</th>\n",
       "      <td>27973</td>\n",
       "      <td>1163</td>\n",
       "    </tr>\n",
       "    <tr>\n",
       "      <th>3</th>\n",
       "      <td>907</td>\n",
       "      <td>52</td>\n",
       "    </tr>\n",
       "    <tr>\n",
       "      <th>4</th>\n",
       "      <td>950</td>\n",
       "      <td>41</td>\n",
       "    </tr>\n",
       "    <tr>\n",
       "      <th>...</th>\n",
       "      <td>...</td>\n",
       "      <td>...</td>\n",
       "    </tr>\n",
       "    <tr>\n",
       "      <th>182</th>\n",
       "      <td>10621</td>\n",
       "      <td>78</td>\n",
       "    </tr>\n",
       "    <tr>\n",
       "      <th>183</th>\n",
       "      <td>10</td>\n",
       "      <td>1</td>\n",
       "    </tr>\n",
       "    <tr>\n",
       "      <th>184</th>\n",
       "      <td>1691</td>\n",
       "      <td>483</td>\n",
       "    </tr>\n",
       "    <tr>\n",
       "      <th>185</th>\n",
       "      <td>4552</td>\n",
       "      <td>140</td>\n",
       "    </tr>\n",
       "    <tr>\n",
       "      <th>186</th>\n",
       "      <td>2704</td>\n",
       "      <td>36</td>\n",
       "    </tr>\n",
       "  </tbody>\n",
       "</table>\n",
       "<p>187 rows × 2 columns</p>\n",
       "</div>"
      ],
      "text/plain": [
       "     Confirmed  Deaths\n",
       "0        36263    1269\n",
       "1         4880     144\n",
       "2        27973    1163\n",
       "3          907      52\n",
       "4          950      41\n",
       "..         ...     ...\n",
       "182      10621      78\n",
       "183         10       1\n",
       "184       1691     483\n",
       "185       4552     140\n",
       "186       2704      36\n",
       "\n",
       "[187 rows x 2 columns]"
      ]
     },
     "execution_count": 74,
     "metadata": {},
     "output_type": "execute_result"
    }
   ],
   "source": [
    "confirmed"
   ]
  },
  {
   "cell_type": "code",
   "execution_count": 78,
   "id": "290b35ce",
   "metadata": {},
   "outputs": [
    {
     "data": {
      "text/plain": [
       "<AxesSubplot:xlabel='Deaths', ylabel='Confirmed'>"
      ]
     },
     "execution_count": 78,
     "metadata": {},
     "output_type": "execute_result"
    },
    {
     "data": {
      "image/png": "[encoded data removed]",
      "text/plain": [
       "<Figure size 432x288 with 1 Axes>"
      ]
     },
     "metadata": {
      "image/png": {
       "height": 272,
       "width": 376
      },
      "needs_background": "light"
     },
     "output_type": "display_data"
    }
   ],
   "source": [
    "confirmed.plot(x='Deaths',y='Confirmed',kind='scatter')"
   ]
  },
  {
   "cell_type": "code",
   "execution_count": 89,
   "id": "20dc5c2d",
   "metadata": {},
   "outputs": [
    {
     "data": {
      "text/plain": [
       "0    36263\n",
       "1     4880\n",
       "2    27973\n",
       "3      907\n",
       "4      950\n",
       "Name: Confirmed, dtype: int64"
      ]
     },
     "execution_count": 89,
     "metadata": {},
     "output_type": "execute_result"
    }
   ],
   "source": [
    "X= confirmed['Confirmed']\n",
    "\n",
    "X.head()"
   ]
  },
  {
   "cell_type": "code",
   "execution_count": 90,
   "id": "08bf3bb0",
   "metadata": {},
   "outputs": [
    {
     "data": {
      "text/plain": [
       "0    1269\n",
       "1     144\n",
       "2    1163\n",
       "3      52\n",
       "4      41\n",
       "Name: Deaths, dtype: int64"
      ]
     },
     "execution_count": 90,
     "metadata": {},
     "output_type": "execute_result"
    }
   ],
   "source": [
    "y = confirmed['Deaths']\n",
    "y.head()"
   ]
  },
  {
   "cell_type": "markdown",
   "id": "E-WGAUU0UezU",
   "metadata": {
    "id": "E-WGAUU0UezU"
   },
   "source": [
    "### Modeling Approach ( Regression Models)\n"
   ]
  },
  {
   "cell_type": "markdown",
   "id": "4E1MeN3L7yaj",
   "metadata": {
    "id": "4E1MeN3L7yaj"
   },
   "source": [
    "CALCULATE SCORES METHODS"
   ]
  },
  {
   "cell_type": "code",
   "execution_count": 91,
   "id": "ca69c020",
   "metadata": {},
   "outputs": [],
   "source": [
    "from sklearn.model_selection import train_test_split\n",
    "X_train, X_test, y_train, y_test = train_test_split(X, y, train_size=0.7 , random_state=0000)"
   ]
  },
  {
   "cell_type": "code",
   "execution_count": 92,
   "id": "055facf7",
   "metadata": {},
   "outputs": [
    {
     "name": "stdout",
     "output_type": "stream",
     "text": [
      "(130,)\n",
      "(130,)\n",
      "(57,)\n",
      "(57,)\n"
     ]
    }
   ],
   "source": [
    "print(X_train.shape)\n",
    "print(y_train.shape)\n",
    "print(X_test.shape)\n",
    "print(y_test.shape)"
   ]
  },
  {
   "cell_type": "code",
   "execution_count": 93,
   "id": "abb48806",
   "metadata": {},
   "outputs": [],
   "source": [
    "X_train = X_train[:, np.newaxis]\n",
    "X_test = X_test[:, np.newaxis]"
   ]
  },
  {
   "cell_type": "code",
   "execution_count": 94,
   "id": "5ce70f22",
   "metadata": {},
   "outputs": [
    {
     "name": "stdout",
     "output_type": "stream",
     "text": [
      "(130, 1)\n",
      "(130,)\n",
      "(57, 1)\n",
      "(57,)\n"
     ]
    }
   ],
   "source": [
    "print(X_train.shape)\n",
    "print(y_train.shape)\n",
    "print(X_test.shape)\n",
    "print(y_test.shape)"
   ]
  },
  {
   "cell_type": "code",
   "execution_count": 95,
   "id": "0a9662f1",
   "metadata": {},
   "outputs": [
    {
     "data": {
      "text/plain": [
       "LinearRegression()"
      ]
     },
     "execution_count": 95,
     "metadata": {},
     "output_type": "execute_result"
    }
   ],
   "source": [
    "from sklearn.linear_model import LinearRegression\n",
    "\n",
    "# Representing LinearRegression as lr(Creating LinearRegression Object)\n",
    "lr = LinearRegression()\n",
    "\n",
    "# Fit the model using lr.fit()\n",
    "lr.fit(X_train, y_train)"
   ]
  },
  {
   "cell_type": "code",
   "execution_count": 96,
   "id": "31e524ca",
   "metadata": {},
   "outputs": [],
   "source": [
    "y_pred = lr.predict(X_test)"
   ]
  },
  {
   "cell_type": "code",
   "execution_count": 99,
   "id": "fa333d67",
   "metadata": {},
   "outputs": [
    {
     "data": {
      "text/plain": [
       "Text(0, 0.5, 'Deaths')"
      ]
     },
     "execution_count": 99,
     "metadata": {},
     "output_type": "execute_result"
    },
    {
     "data": {
      "image/png": "[encoded data removed]",
      "text/plain": [
       "<Figure size 432x288 with 1 Axes>"
      ]
     },
     "metadata": {
      "image/png": {
       "height": 298,
       "width": 413
      },
      "needs_background": "light"
     },
     "output_type": "display_data"
    }
   ],
   "source": [
    "import matplotlib.pyplot as plt\n",
    "c = [i for i in range(1,58,1)]         # generating index \n",
    "fig = plt.figure()\n",
    "plt.plot(c,y_test, color=\"blue\", linewidth=2, linestyle=\"-\")\n",
    "plt.plot(c,y_pred, color=\"red\",  linewidth=2, linestyle=\"-\")\n",
    "fig.suptitle('Actual and Predicted', fontsize=20)              # Plot heading \n",
    "plt.xlabel('Index', fontsize=18)                               # X-label\n",
    "plt.ylabel('Deaths', fontsize=16) "
   ]
  },
  {
   "cell_type": "markdown",
   "id": "8b48980d",
   "metadata": {},
   "source": [
    "Blue: Test   Red: Predicted"
   ]
  },
  {
   "cell_type": "markdown",
   "id": "acebd434",
   "metadata": {
    "id": "acebd434"
   },
   "source": [
    "### Experimental Results and Discussion"
   ]
  },
  {
   "cell_type": "markdown",
   "id": "PBC0ikZ2RXo5",
   "metadata": {
    "id": "PBC0ikZ2RXo5"
   },
   "source": [
    "The regression model which was Linear regression, is a good model to use however there are other models that exist. By importing this regression model, we are able to create a set of predicted values to compare and scale amongst true values. There were many differernt forms of analysis done to gather different types of information. Some of the analysis that was done throughout the project was measuring the deaths per 100 cases against the recovered. In the model that had a histogram including the regions of the countires in the data set showed the most affected areas. The visualizations for the regression models are shown above. One thing that I encountered in the experimental process was attempting to form and fit my data to produce the best results for Linear Regression. Although in the end I was bale to come out with a product I most likely would have chosen a different data set that would have been more applicable for linear regression. The way that the data was formatted also presented a problem. However, besides the problems that presented themselves I was able to gather sufficient results. With the Linear Regression results it shows how the predicted values (red), were closely able to resemble the testing values(blue), meaning the model made an acurate prediction."
   ]
  },
  {
   "cell_type": "markdown",
   "id": "659fde27",
   "metadata": {
    "id": "659fde27"
   },
   "source": [
    "### Conclusion "
   ]
  },
  {
   "cell_type": "markdown",
   "id": "AsEE21SSNkzf",
   "metadata": {
    "id": "AsEE21SSNkzf"
   },
   "source": [
    "By using the tools of regression throughout the project we were able to take this particular data set of the covid-19 infection results by comparing the deaths to the confirmed rates. The data received from the creation of the regression modes was in the end a way to make a system that can effectively make predictions on future casuality results from covid-19. The results from the project could later then be used to inform people of precautions that may have been taken. Then through the use of plots and visualization, it gave a better perspective of what it was that we were attempting to get out of the project, which gave the reader a better understanding of the project and what was being researched.\n"
   ]
  },
  {
   "cell_type": "markdown",
   "id": "c53c1d3f",
   "metadata": {
    "id": "c53c1d3f"
   },
   "source": [
    "### Future Observations\n",
    "In the future, if I were to do a similar project, I would look into data where using linear regression wold produce a better result for analysis. One area that interests me is the use of linear regression for stock market prediction, i feel as thoguh it would have resulted in a more stream line approach and there for more concise results. "
   ]
  },
  {
   "cell_type": "markdown",
   "id": "7fgxyk3LRif2",
   "metadata": {
    "id": "7fgxyk3LRif2"
   },
   "source": [
    "Math/Computer Science department, Math355/COMSC415 course, and RWU."
   ]
  }
 ],
 "metadata": {
  "colab": {
   "provenance": []
  },
  "kernelspec": {
   "display_name": "Python 3 (ipykernel)",
   "language": "python",
   "name": "python3"
  },
  "language_info": {
   "codemirror_mode": {
    "name": "ipython",
    "version": 3
   },
   "file_extension": ".py",
   "mimetype": "text/x-python",
   "name": "python",
   "nbconvert_exporter": "python",
   "pygments_lexer": "ipython3",
   "version": "3.9.7"
  }
 },
 "nbformat": 4,
 "nbformat_minor": 5
}
